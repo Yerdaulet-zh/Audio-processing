{
 "cells": [
  {
   "cell_type": "markdown",
   "id": "e1ff377e-eb97-4210-b389-c33fb781d383",
   "metadata": {},
   "source": [
    "<h3>Application of Audio Processing</h3>\n",
    "\n",
    "<ul>\n",
    "    <li>Audio Classification</li>\n",
    "    <li>Speech Recognition / Speaker Identification</li>\n",
    "    <li>Audio Denoising / Audio Upsampling</li>\n",
    "    <li>Music Information Retrieval:</li>\n",
    "        <ul>\n",
    "            <li>Music Instrument Classification</li>\n",
    "            <li>Mood Classification</li>\n",
    "            <li>. . .</li>\n",
    "        </ul>\n",
    "    <li>. . .</li>\n",
    "</ul>"
   ]
  },
  {
   "cell_type": "markdown",
   "id": "ad8c52a5-87f8-4f57-b39c-c7b316d2ab97",
   "metadata": {},
   "source": [
    "<hr>\n",
    "<h3>\n",
    "    Content\n",
    "</h3>\n",
    "\n",
    "<ul>\n",
    "    <li>Sound Waves</li>\n",
    "    <li>DAC / ADC</li>\n",
    "    <li>Time- and frequency-domain audio features (e.g., rms, spectral centroid)</li>\n",
    "    <li>Audio Transformations: </li>\n",
    "    <ul>\n",
    "        <li>Fourier Transform / STFT</li>\n",
    "        <li>Constant-Q Transform</li>\n",
    "        <li>Mel Spectograms</li>\n",
    "        <li>Chromograms</li>\n",
    "    </ul>\n",
    "    <li>. . .</li>\n",
    "</ul>\n",
    "<hr>\n",
    "<h3>What should you expect</h3>\n",
    "<ul>\n",
    "    <li>Audio Processing Theory</li>\n",
    "    <li>Python code examples</li>\n",
    "</ul>\n",
    "\n",
    "<hr>\n",
    "<h3>\n",
    "    Technical Stack\n",
    "</h3>\n",
    "<img src=\"../images/stack.png\">\n",
    "\n",
    "<hr>\n",
    "<h3>What will be presented in the repo</h3>\n",
    "<ul>\n",
    "    <li>Get a deep understanding of audio data</li>\n",
    "    <li>Familirase with frequency/time-domain audio features</li>\n",
    "    <li>Extract features from raw audio</li>\n",
    "    <li>Recognise what audio features to use from ML applications</li>\n",
    "    <li>Preprocess/Prepare audio data for ML</li>\n",
    "    <li>Understand math behind audio transformations</li>\n",
    "    <li>Use Librosa for your audio projects</li>\n",
    "</ul>\n",
    "\n",
    "<hr>\n",
    "<center>\n",
    "    <h3>Spectogram</h3>\n",
    "    <img src=\"../images/spectogram.png\">\n",
    "</center>"
   ]
  },
  {
   "cell_type": "markdown",
   "id": "b9a8fed7-afe3-48df-8b5d-4ca24e6ffd7b",
   "metadata": {},
   "source": [
    "<hr>\n",
    "<h3>Who is this series for?</h3>\n",
    "<ul>\n",
    "    <li>ML/DL Engineers</li>\n",
    "    <li>Computer Science Students</li>\n",
    "    <li>Software Engineers</li>\n",
    "    <li>Music Technologists</li>\n",
    "    <li>Tech Oriented Musiciants</li>\n",
    "</ul>\n",
    "<hr>\n",
    "<h3>Prerequisites</h3>\n",
    "<ul>\n",
    "    <li>Intermediate Python Proficiency</li>\n",
    "    <li>Understanding of Complex Numbers</li>\n",
    "    <li>At least Calculus 1</li>\n",
    "    <li>Basic understanding of Linear Algebra</li>\n",
    "</ul>"
   ]
  },
  {
   "cell_type": "code",
   "execution_count": null,
   "id": "95d49a51-b233-4e08-86df-dc3150cbfa7c",
   "metadata": {},
   "outputs": [],
   "source": []
  }
 ],
 "metadata": {
  "kernelspec": {
   "display_name": "Python 3 (ipykernel)",
   "language": "python",
   "name": "python3"
  },
  "language_info": {
   "codemirror_mode": {
    "name": "ipython",
    "version": 3
   },
   "file_extension": ".py",
   "mimetype": "text/x-python",
   "name": "python",
   "nbconvert_exporter": "python",
   "pygments_lexer": "ipython3",
   "version": "3.12.3"
  }
 },
 "nbformat": 4,
 "nbformat_minor": 5
}
